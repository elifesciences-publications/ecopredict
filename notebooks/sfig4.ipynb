{
 "cells": [
  {
   "cell_type": "code",
   "execution_count": 1,
   "metadata": {
    "collapsed": true
   },
   "outputs": [],
   "source": [
    "# Plotting imports\n",
    "%matplotlib inline\n",
    "\n",
    "import matplotlib.pyplot as plt\n",
    "import matplotlib.patches as patches\n",
    "import seaborn as sns\n",
    "\n",
    "from matplotlib.colors import ListedColormap\n",
    "\n",
    "sns.set_style('white')\n",
    "\n",
    "plt.rc('font', family='sans-serif')\n",
    "plt.rc('font', serif='Arial')\n",
    "plt.rc('text', usetex='false')\n",
    "\n",
    "try:\n",
    "    plt.style.use('../custom.mplstyle')\n",
    "except IOError:\n",
    "    plt.rc('font', size=10)\n",
    "    plt.rc('xtick', labelsize=10)\n",
    "    plt.rc('ytick', labelsize=10)\n",
    "    plt.rc('axes', labelsize=12, titlesize=12)\n",
    "    plt.rc('legend', fontsize=8)"
   ]
  },
  {
   "cell_type": "code",
   "execution_count": 2,
   "metadata": {
    "collapsed": true
   },
   "outputs": [],
   "source": [
    "import numpy as np\n",
    "import pandas as pd\n",
    "from scipy import stats\n",
    "from statsmodels.sandbox.stats.multicomp import multipletests\n",
    "from sklearn.metrics import precision_recall_curve, auc"
   ]
  },
  {
   "cell_type": "code",
   "execution_count": 3,
   "metadata": {
    "collapsed": true
   },
   "outputs": [],
   "source": [
    "a = pd.read_table('../input/chemical/emap.matrix.txt')\n",
    "a.set_index(a.columns[0],\n",
    "            inplace=True)\n",
    "f = pd.read_table('../input/chemical/emap.fdr.txt')\n",
    "f.set_index(f.columns[0],\n",
    "            inplace=True)\n",
    "v = a[a < 0][f < 0.05]\n",
    "v[np.invert(np.isnan(v))] = 1\n",
    "v[np.isnan(v)] = 0\n",
    "v[np.isnan(a)] = np.nan"
   ]
  },
  {
   "cell_type": "code",
   "execution_count": 4,
   "metadata": {
    "collapsed": true
   },
   "outputs": [],
   "source": [
    "strains = {x for x in v.index\n",
    "           if x.startswith('NT12')\n",
    "           and int(x[2:]) >= 12620}\n",
    "nstrains = {x for x in v.index\n",
    "            if x.startswith('NT12')\n",
    "            and int(x[2:]) < 12620}"
   ]
  },
  {
   "cell_type": "code",
   "execution_count": 5,
   "metadata": {
    "collapsed": true
   },
   "outputs": [],
   "source": [
    "m = pd.read_table('../sickness/123456/weighted_score.2.txt')\n",
    "m.set_index(m.columns[0], inplace=True)\n",
    "m.index.name = 'condition'\n",
    "m = m.T"
   ]
  },
  {
   "cell_type": "code",
   "execution_count": 6,
   "metadata": {
    "collapsed": true
   },
   "outputs": [],
   "source": [
    "m1 = m.loc[strains]\n",
    "a1 = a.loc[strains]\n",
    "v1 = v.loc[strains]\n",
    "m2 = m.loc[nstrains]\n",
    "a2 = a.loc[nstrains]\n",
    "v2 = v.loc[nstrains]"
   ]
  },
  {
   "cell_type": "code",
   "execution_count": 7,
   "metadata": {
    "collapsed": true
   },
   "outputs": [],
   "source": [
    "p = pd.read_table('../sickness/123456/auc_weighted_score.2.txt',\n",
    "                  header=None)\n",
    "p = p[p[7] == 'prec']\n",
    "pdict = p.groupby(0).mean().dropna()[3].to_dict()"
   ]
  },
  {
   "cell_type": "code",
   "execution_count": 8,
   "metadata": {},
   "outputs": [
    {
     "name": "stderr",
     "output_type": "stream",
     "text": [
      "/hps/nobackup/beltrao/marco/software/anaconda3/lib/python3.6/site-packages/scipy/stats/_stats_mstats_common.py:106: RuntimeWarning: invalid value encountered in double_scalars\n",
      "  slope = r_num / ssxm\n",
      "/hps/nobackup/beltrao/marco/software/anaconda3/lib/python3.6/site-packages/scipy/stats/_stats_mstats_common.py:118: RuntimeWarning: divide by zero encountered in double_scalars\n",
      "  sterrest = np.sqrt((1 - r**2) * ssym / ssxm / df)\n",
      "/hps/nobackup/beltrao/marco/software/anaconda3/lib/python3.6/site-packages/numpy/lib/function_base.py:3162: RuntimeWarning: invalid value encountered in true_divide\n",
      "  c /= stddev[:, None]\n",
      "/hps/nobackup/beltrao/marco/software/anaconda3/lib/python3.6/site-packages/numpy/lib/function_base.py:3163: RuntimeWarning: invalid value encountered in true_divide\n",
      "  c /= stddev[None, :]\n",
      "/hps/nobackup/beltrao/marco/software/anaconda3/lib/python3.6/site-packages/scipy/stats/_distn_infrastructure.py:879: RuntimeWarning: invalid value encountered in greater\n",
      "  return (self.a < x) & (x < self.b)\n",
      "/hps/nobackup/beltrao/marco/software/anaconda3/lib/python3.6/site-packages/scipy/stats/_distn_infrastructure.py:879: RuntimeWarning: invalid value encountered in less\n",
      "  return (self.a < x) & (x < self.b)\n",
      "/hps/nobackup/beltrao/marco/software/anaconda3/lib/python3.6/site-packages/scipy/stats/_distn_infrastructure.py:1818: RuntimeWarning: invalid value encountered in less_equal\n",
      "  cond2 = cond0 & (x <= self.a)\n",
      "/hps/nobackup/beltrao/marco/software/anaconda3/lib/python3.6/site-packages/statsmodels/stats/multitest.py:320: RuntimeWarning: invalid value encountered in less_equal\n",
      "  reject = pvals_sorted <= ecdffactor*alpha\n"
     ]
    }
   ],
   "source": [
    "res = []\n",
    "for c in set(m.columns).intersection(a.columns):\n",
    "    idx = set(m[c].dropna().index).intersection(a[c].dropna().index)\n",
    "    lreg = stats.linregress(m.loc[idx, c],\n",
    "                            a.loc[idx, c])\n",
    "    sreg = stats.spearmanr(m.loc[idx, c],\n",
    "                           a.loc[idx, c])\n",
    "    ridx = v[v == 0].loc[idx,\n",
    "                         c].dropna().sample(n=50).index\n",
    "    ridx = set(ridx).union(v[v == 1].loc[idx,\n",
    "                                         c].dropna().index)\n",
    "    lrreg = stats.linregress(m.loc[ridx, c],\n",
    "                            a.loc[ridx, c])\n",
    "    srreg = stats.spearmanr(m.loc[ridx, c],\n",
    "                           a.loc[ridx, c])\n",
    "    res.append((c, pdict.get(c, np.nan),\n",
    "                lreg.rvalue, lreg.pvalue,\n",
    "                sreg.correlation, sreg.pvalue,\n",
    "                lrreg.rvalue, lrreg.pvalue,\n",
    "                srreg.correlation, srreg.pvalue,\n",
    "                v.loc[idx, c].dropna().sum(),\n",
    "                v.loc[idx, c].dropna().sum() / a.loc[idx, c].dropna().shape[0]))\n",
    "df = pd.DataFrame(res)\n",
    "df.columns = ['condition',\n",
    "              'pr-auc',\n",
    "              'rvalue', 'pvalue',\n",
    "              'svalue', 'spvalue',\n",
    "              'rvalue_reduced', 'pvalue_reduced',\n",
    "              'svalue_reduced', 'spvalue_reduced',\n",
    "              'sick',\n",
    "              'psick']\n",
    "df['pvalue_corrected'] = multipletests(df.pvalue,\n",
    "                                       method='fdr_by')[1]\n",
    "df['pvalue_reduced_corrected'] = multipletests(df['pvalue_corrected'],\n",
    "                                       method='fdr_by')[1]\n",
    "df['spvalue_corrected'] = multipletests(df.spvalue,\n",
    "                                       method='fdr_by')[1]"
   ]
  },
  {
   "cell_type": "code",
   "execution_count": 9,
   "metadata": {},
   "outputs": [
    {
     "name": "stdout",
     "output_type": "stream",
     "text": [
      "Proportion of well-predicted conditions (sick strains >= 1%)\n"
     ]
    },
    {
     "data": {
      "text/plain": [
       "0.2"
      ]
     },
     "execution_count": 9,
     "metadata": {},
     "output_type": "execute_result"
    }
   ],
   "source": [
    "print('Proportion of well-predicted conditions (sick strains >= 1%)')\n",
    "df[(df.psick >= 0.01) &\n",
    "               (df.pvalue_corrected <= 0.01) &\n",
    "               (df['pr-auc'] >= 0.1)].shape[0] / df[df.psick >= 0.01].shape[0]"
   ]
  },
  {
   "cell_type": "code",
   "execution_count": 10,
   "metadata": {},
   "outputs": [
    {
     "name": "stdout",
     "output_type": "stream",
     "text": [
      "Proportion of well-predicted conditions (sick strains >= 5%)\n"
     ]
    },
    {
     "data": {
      "text/plain": [
       "0.3888888888888889"
      ]
     },
     "execution_count": 10,
     "metadata": {},
     "output_type": "execute_result"
    }
   ],
   "source": [
    "print('Proportion of well-predicted conditions (sick strains >= 5%)')\n",
    "df[(df.psick >= 0.05) &\n",
    "               (df.pvalue_corrected <= 0.01) &\n",
    "               (df['pr-auc'] >= 0.1)].shape[0] / df[df.psick >= 0.05].shape[0]"
   ]
  },
  {
   "cell_type": "code",
   "execution_count": 11,
   "metadata": {},
   "outputs": [
    {
     "data": {
      "image/png": "[encoded data removed]",
      "text/plain": [
       "<matplotlib.figure.Figure at 0x2b20d797f278>"
      ]
     },
     "metadata": {},
     "output_type": "display_data"
    }
   ],
   "source": [
    "plt.figure(figsize=(7, 3.5))\n",
    "\n",
    "well_1 = df[(df.psick >= 0.01) &\n",
    "            (df.pvalue_corrected <= 0.01) &\n",
    "            (df['pr-auc'] >= 0.1)]\n",
    "not_1 = df.loc[set(df[(df.psick >= 0.01)].index).difference(well_1.index)]\n",
    "\n",
    "plt.subplot(121)\n",
    "plt.title('>= 1% sick strains')\n",
    "plt.scatter(not_1['pr-auc'],\n",
    "            not_1.rvalue,\n",
    "            (-np.log10(not_1['pvalue_corrected']) + 0.1)*10,\n",
    "            color='k',\n",
    "            label='not-predicted',\n",
    "            alpha=0.77)\n",
    "\n",
    "plt.scatter(well_1['pr-auc'],\n",
    "            well_1.rvalue,\n",
    "            (-np.log10(well_1['pvalue_corrected']) + 0.1)*10,\n",
    "            color='r',\n",
    "            label='well-predicted',\n",
    "            alpha=0.77)\n",
    "\n",
    "plt.xlabel('PR-AUC')\n",
    "plt.ylabel('Pearson\\'s r')\n",
    "plt.ylim(-0.5, 0.3)\n",
    "\n",
    "plt.legend(title='Conditions',\n",
    "           frameon=True,\n",
    "           loc='upper center',\n",
    "           bbox_to_anchor=(0.75, 1))\n",
    "\n",
    "plt.axhline(0,\n",
    "            color='grey',\n",
    "            ls='dashed')\n",
    "plt.xlim(0)\n",
    "\n",
    "well_1 = df[(df.psick >= 0.05) &\n",
    "            (df.pvalue_corrected <= 0.01) &\n",
    "            (df['pr-auc'] >= 0.1)]\n",
    "not_1 = df.loc[set(df[(df.psick >= 0.05)].index).difference(well_1.index)]\n",
    "\n",
    "plt.subplot(122)\n",
    "plt.title('>= 5% sick strains')\n",
    "plt.scatter(not_1['pr-auc'],\n",
    "            not_1.rvalue,\n",
    "            (-np.log10(not_1['pvalue_corrected']) + 0.1)*10,\n",
    "            color='k',\n",
    "            label='not-predicted',\n",
    "            alpha=0.77)\n",
    "\n",
    "plt.scatter(well_1['pr-auc'],\n",
    "            well_1.rvalue,\n",
    "            (-np.log10(well_1['pvalue_corrected']) + 0.1)*10,\n",
    "            color='r',\n",
    "            label='well-predicted',\n",
    "            alpha=0.77)\n",
    "\n",
    "plt.xlabel('PR-AUC')\n",
    "plt.ylabel('Pearson\\'s r')\n",
    "\n",
    "plt.axhline(0,\n",
    "            color='grey',\n",
    "            ls='dashed')\n",
    "plt.xlim(0)\n",
    "plt.ylim(-0.5, 0.3)\n",
    "\n",
    "plt.legend(title='Conditions',\n",
    "           frameon=True,\n",
    "           loc='upper center',\n",
    "           bbox_to_anchor=(0.75, 1))\n",
    "\n",
    "plt.tight_layout()\n",
    "sns.despine()\n",
    "plt.savefig('sfig4a.svg',\n",
    "            dpi=150);"
   ]
  },
  {
   "cell_type": "code",
   "execution_count": 12,
   "metadata": {
    "collapsed": true
   },
   "outputs": [],
   "source": [
    "import numpy as np\n",
    "import pandas as pd\n",
    "from Bio import Phylo\n",
    "from sklearn.metrics import precision_recall_curve, auc"
   ]
  },
  {
   "cell_type": "code",
   "execution_count": 13,
   "metadata": {
    "collapsed": true
   },
   "outputs": [],
   "source": [
    "t = Phylo.read('../input/tree.nwk', 'newick')\n",
    "ref = None\n",
    "for x in t.get_terminals():\n",
    "    x.name = x.name.split('_')[0]\n",
    "    if 'genome' in x.name:\n",
    "        x.name = 'NT12001'\n",
    "        ref = x"
   ]
  },
  {
   "cell_type": "code",
   "execution_count": 14,
   "metadata": {
    "collapsed": true
   },
   "outputs": [],
   "source": [
    "a = pd.read_table('../input/chemical/emap.matrix.txt')\n",
    "a.set_index(a.columns[0],\n",
    "            inplace=True)\n",
    "f = pd.read_table('../input/chemical/emap.fdr.txt')\n",
    "f.set_index(f.columns[0],\n",
    "            inplace=True)\n",
    "v = a[a < 0][f < 0.05]\n",
    "v[np.invert(np.isnan(v))] = 1\n",
    "v[np.isnan(v)] = 0\n",
    "v[np.isnan(a)] = np.nan"
   ]
  },
  {
   "cell_type": "code",
   "execution_count": 15,
   "metadata": {
    "collapsed": true
   },
   "outputs": [],
   "source": [
    "distant = [x[0] for x in sorted([(x.name, t.distance(ref, x))\n",
    "                                 for x in t.get_terminals()],\n",
    "                                key=lambda x: x[1])[-100:]]"
   ]
  },
  {
   "cell_type": "code",
   "execution_count": 16,
   "metadata": {
    "collapsed": true
   },
   "outputs": [],
   "source": [
    "m = pd.read_table('../sickness/123456/weighted_score.2.txt')\n",
    "m.set_index(m.columns[0], inplace=True)\n",
    "m.index.name = 'condition'\n",
    "m = m.T"
   ]
  },
  {
   "cell_type": "code",
   "execution_count": 17,
   "metadata": {
    "collapsed": true
   },
   "outputs": [],
   "source": [
    "m1 = m.loc[[x for x in m.index\n",
    "            if x not in distant]]\n",
    "v1 = v.loc[[x for x in m.index\n",
    "            if x not in distant]]\n",
    "m = m.loc[distant]\n",
    "v = v.loc[distant]"
   ]
  },
  {
   "cell_type": "code",
   "execution_count": 18,
   "metadata": {},
   "outputs": [
    {
     "name": "stderr",
     "output_type": "stream",
     "text": [
      "/hps/nobackup/beltrao/marco/software/anaconda3/lib/python3.6/site-packages/sklearn/metrics/ranking.py:420: RuntimeWarning: invalid value encountered in true_divide\n",
      "  recall = tps / tps[-1]\n"
     ]
    }
   ],
   "source": [
    "res = []\n",
    "for c in set(m.columns).intersection(a.columns):\n",
    "    idx = sorted(set(m[c].dropna().index).intersection(v[c].dropna().index))\n",
    "    if len(idx) == 0:\n",
    "        continue\n",
    "    prec, rec, thresholds = precision_recall_curve(v.loc[idx, c],\n",
    "                                                   m.loc[idx, c])\n",
    "    res.append((c, v.loc[idx, c].sum(), auc(rec, prec)))\n",
    "r = pd.DataFrame(res)\n",
    "r.columns = ['condition',\n",
    "             'phenotypes',\n",
    "             'auc']"
   ]
  },
  {
   "cell_type": "code",
   "execution_count": 19,
   "metadata": {},
   "outputs": [
    {
     "name": "stderr",
     "output_type": "stream",
     "text": [
      "/hps/nobackup/beltrao/marco/software/anaconda3/lib/python3.6/site-packages/sklearn/metrics/ranking.py:420: RuntimeWarning: invalid value encountered in true_divide\n",
      "  recall = tps / tps[-1]\n"
     ]
    }
   ],
   "source": [
    "res1 = []\n",
    "for c in set(m.columns).intersection(a.columns):\n",
    "    idx = sorted(set(m1[c].dropna().index).intersection(v1[c].dropna().index))\n",
    "    if len(idx) == 0:\n",
    "        continue\n",
    "    prec, rec, thresholds = precision_recall_curve(v1.loc[idx, c],\n",
    "                                                   m1.loc[idx, c])\n",
    "    res1.append((c, v1.loc[idx, c].sum(), auc(rec, prec)))\n",
    "r1 = pd.DataFrame(res1)\n",
    "r1.columns = ['condition',\n",
    "              'phenotypes',\n",
    "              'auc']"
   ]
  },
  {
   "cell_type": "code",
   "execution_count": 20,
   "metadata": {
    "collapsed": true
   },
   "outputs": [],
   "source": [
    "p = pd.read_table('../sickness/123456/auc_weighted_score.2.txt',\n",
    "                  header=None)"
   ]
  },
  {
   "cell_type": "code",
   "execution_count": 21,
   "metadata": {
    "collapsed": true
   },
   "outputs": [],
   "source": [
    "r['aauc'] = [p[(p[0] == x) &\n",
    "               (p[7] == 'prec')][3].values[0]\n",
    "             for x in r['condition']]"
   ]
  },
  {
   "cell_type": "code",
   "execution_count": 22,
   "metadata": {
    "collapsed": true
   },
   "outputs": [],
   "source": [
    "r['dauc'] = [r1[r1.condition == x]['auc'].values[0]\n",
    "             for x in r['condition']]"
   ]
  },
  {
   "cell_type": "code",
   "execution_count": 23,
   "metadata": {
    "collapsed": true
   },
   "outputs": [],
   "source": [
    "r.set_index('condition', inplace=True)"
   ]
  },
  {
   "cell_type": "code",
   "execution_count": 24,
   "metadata": {},
   "outputs": [
    {
     "data": {
      "image/png": "[encoded data removed]",
      "text/plain": [
       "<matplotlib.figure.Figure at 0x2b20f09f16d8>"
      ]
     },
     "metadata": {},
     "output_type": "display_data"
    }
   ],
   "source": [
    "plt.figure(figsize=(2.5, 2.5))\n",
    "\n",
    "plt.plot(r.aauc,\n",
    "         r.auc,\n",
    "         'ko',\n",
    "         alpha=0.3)\n",
    "\n",
    "plt.plot([0, 1],\n",
    "         [0, 1],\n",
    "         '--',\n",
    "         color='grey')\n",
    "plt.xlim(0, 1.01)\n",
    "plt.ylim(0, 1.01)\n",
    "\n",
    "plt.xlabel('PR-AUC\\n(all strains)')\n",
    "plt.ylabel('PR-AUC\\n(distant strains)')\n",
    "sns.despine()\n",
    "plt.savefig('sfig4b.svg');"
   ]
  },
  {
   "cell_type": "code",
   "execution_count": 25,
   "metadata": {
    "collapsed": true
   },
   "outputs": [],
   "source": [
    "import gseapy\n",
    "import numpy as np\n",
    "import pandas as pd\n",
    "from scipy import stats"
   ]
  },
  {
   "cell_type": "code",
   "execution_count": 26,
   "metadata": {
    "collapsed": true
   },
   "outputs": [],
   "source": [
    "a = pd.read_table('../input/chemical/emap.matrix.txt')\n",
    "a.set_index(a.columns[0], inplace=True)\n",
    "f = pd.read_table('../input/chemical/emap.fdr.txt')\n",
    "f.set_index(f.columns[0], inplace=True)\n",
    "v = a[f < 0.05]\n",
    "v = v[v < 0]\n",
    "v[np.invert(np.isnan(v))] = 1\n",
    "v[np.isnan(v)] = 0\n",
    "v[np.isnan(a)] = np.nan"
   ]
  },
  {
   "cell_type": "code",
   "execution_count": 27,
   "metadata": {
    "collapsed": true
   },
   "outputs": [],
   "source": [
    "m = pd.read_table('../sickness/123456/weighted_score.2.txt')\n",
    "m.set_index(m.columns[0], inplace=True)\n",
    "m = m.T"
   ]
  },
  {
   "cell_type": "code",
   "execution_count": 28,
   "metadata": {
    "collapsed": true
   },
   "outputs": [],
   "source": [
    "def gsea(m, a, v):\n",
    "    for c in set(m.columns).intersection(v.columns):\n",
    "        idx = set(m[c].dropna().index).intersection(a[c].dropna().index)\n",
    "        midx = m.loc[idx, c].sort_values(ascending=False).index\n",
    "        rank = m.loc[midx, c].reset_index()\n",
    "        if v[v == 1].loc[midx, c].dropna().shape[0] <= 1:\n",
    "            # print(c, v[v == 1].loc[midx, c].dropna().shape[0])\n",
    "            continue\n",
    "        f = open('set.gmt', 'w')\n",
    "        f.write('\\t'.join([c, ''] + list(v[v == 1].loc[midx, c].dropna().index)))\n",
    "        f.write('\\n')\n",
    "        f.close()\n",
    "        yield gseapy.prerank(rnk=rank, gene_sets='set.gmt', outdir='prerank_gsea',\n",
    "                             min_size=1)"
   ]
  },
  {
   "cell_type": "code",
   "execution_count": 29,
   "metadata": {},
   "outputs": [
    {
     "name": "stderr",
     "output_type": "stream",
     "text": [
      "/hps/nobackup/beltrao/marco/software/anaconda3/lib/python3.6/site-packages/gseapy/algorithm.py:81: RuntimeWarning: divide by zero encountered in true_divide\n",
      "  norm_tag =  1.0/sum_correl_tag\n",
      "/hps/nobackup/beltrao/marco/software/anaconda3/lib/python3.6/site-packages/gseapy/algorithm.py:84: RuntimeWarning: invalid value encountered in multiply\n",
      "  RES = np.cumsum(tag_indicator * correl_vector * norm_tag - no_tag_indicator * norm_no_tag, axis=axis)\n",
      "/hps/nobackup/beltrao/marco/software/anaconda3/lib/python3.6/site-packages/gseapy/algorithm.py:88: RuntimeWarning: invalid value encountered in greater\n",
      "  es = np.where(np.abs(max_ES) > np.abs(min_ES), max_ES, min_ES)\n",
      "/hps/nobackup/beltrao/marco/software/anaconda3/lib/python3.6/site-packages/gseapy/algorithm.py:492: RuntimeWarning: invalid value encountered in less\n",
      "  choicelist = [np.sum(esnull < es.reshape(len(es),1), axis=1)/ np.sum(esnull < 0, axis=1),\n",
      "/hps/nobackup/beltrao/marco/software/anaconda3/lib/python3.6/site-packages/gseapy/algorithm.py:492: RuntimeWarning: divide by zero encountered in true_divide\n",
      "  choicelist = [np.sum(esnull < es.reshape(len(es),1), axis=1)/ np.sum(esnull < 0, axis=1),\n",
      "/hps/nobackup/beltrao/marco/software/anaconda3/lib/python3.6/site-packages/gseapy/algorithm.py:493: RuntimeWarning: invalid value encountered in greater_equal\n",
      "  np.sum(esnull >= es.reshape(len(es),1), axis=1)/ np.sum(esnull >= 0, axis=1)]\n",
      "/hps/nobackup/beltrao/marco/software/anaconda3/lib/python3.6/site-packages/gseapy/algorithm.py:543: RuntimeWarning: invalid value encountered in greater_equal\n",
      "  meanPos = enrNull[enrNull >= 0].mean()\n",
      "/hps/nobackup/beltrao/marco/software/anaconda3/lib/python3.6/site-packages/gseapy/algorithm.py:545: RuntimeWarning: invalid value encountered in less\n",
      "  meanNeg = enrNull[enrNull < 0 ].mean()\n",
      "/hps/nobackup/beltrao/marco/software/anaconda3/lib/python3.6/site-packages/gseapy/algorithm.py:545: RuntimeWarning: Mean of empty slice.\n",
      "  meanNeg = enrNull[enrNull < 0 ].mean()\n",
      "/hps/nobackup/beltrao/marco/software/anaconda3/lib/python3.6/site-packages/numpy/core/_methods.py:80: RuntimeWarning: invalid value encountered in double_scalars\n",
      "  ret = ret.dtype.type(ret / rcount)\n",
      "/hps/nobackup/beltrao/marco/software/anaconda3/lib/python3.6/site-packages/gseapy/algorithm.py:559: RuntimeWarning: invalid value encountered in greater_equal\n",
      "  condlist2 = [ esnull >= 0, esnull < 0]\n",
      "/hps/nobackup/beltrao/marco/software/anaconda3/lib/python3.6/site-packages/gseapy/algorithm.py:559: RuntimeWarning: invalid value encountered in less\n",
      "  condlist2 = [ esnull >= 0, esnull < 0]\n",
      "/hps/nobackup/beltrao/marco/software/anaconda3/lib/python3.6/site-packages/gseapy/algorithm.py:81: RuntimeWarning: divide by zero encountered in true_divide\n",
      "  norm_tag =  1.0/sum_correl_tag\n",
      "/hps/nobackup/beltrao/marco/software/anaconda3/lib/python3.6/site-packages/gseapy/algorithm.py:84: RuntimeWarning: invalid value encountered in multiply\n",
      "  RES = np.cumsum(tag_indicator * correl_vector * norm_tag - no_tag_indicator * norm_no_tag, axis=axis)\n",
      "/hps/nobackup/beltrao/marco/software/anaconda3/lib/python3.6/site-packages/gseapy/algorithm.py:88: RuntimeWarning: invalid value encountered in greater\n",
      "  es = np.where(np.abs(max_ES) > np.abs(min_ES), max_ES, min_ES)\n",
      "/hps/nobackup/beltrao/marco/software/anaconda3/lib/python3.6/site-packages/gseapy/algorithm.py:81: RuntimeWarning: divide by zero encountered in true_divide\n",
      "  norm_tag =  1.0/sum_correl_tag\n",
      "/hps/nobackup/beltrao/marco/software/anaconda3/lib/python3.6/site-packages/gseapy/algorithm.py:84: RuntimeWarning: invalid value encountered in multiply\n",
      "  RES = np.cumsum(tag_indicator * correl_vector * norm_tag - no_tag_indicator * norm_no_tag, axis=axis)\n",
      "/hps/nobackup/beltrao/marco/software/anaconda3/lib/python3.6/site-packages/gseapy/algorithm.py:88: RuntimeWarning: invalid value encountered in greater\n",
      "  es = np.where(np.abs(max_ES) > np.abs(min_ES), max_ES, min_ES)\n",
      "/hps/nobackup/beltrao/marco/software/anaconda3/lib/python3.6/site-packages/gseapy/algorithm.py:81: RuntimeWarning: divide by zero encountered in true_divide\n",
      "  norm_tag =  1.0/sum_correl_tag\n",
      "/hps/nobackup/beltrao/marco/software/anaconda3/lib/python3.6/site-packages/gseapy/algorithm.py:84: RuntimeWarning: invalid value encountered in multiply\n",
      "  RES = np.cumsum(tag_indicator * correl_vector * norm_tag - no_tag_indicator * norm_no_tag, axis=axis)\n",
      "/hps/nobackup/beltrao/marco/software/anaconda3/lib/python3.6/site-packages/gseapy/algorithm.py:88: RuntimeWarning: invalid value encountered in greater\n",
      "  es = np.where(np.abs(max_ES) > np.abs(min_ES), max_ES, min_ES)\n",
      "/hps/nobackup/beltrao/marco/software/anaconda3/lib/python3.6/site-packages/gseapy/algorithm.py:81: RuntimeWarning: divide by zero encountered in true_divide\n",
      "  norm_tag =  1.0/sum_correl_tag\n",
      "/hps/nobackup/beltrao/marco/software/anaconda3/lib/python3.6/site-packages/gseapy/algorithm.py:84: RuntimeWarning: invalid value encountered in multiply\n",
      "  RES = np.cumsum(tag_indicator * correl_vector * norm_tag - no_tag_indicator * norm_no_tag, axis=axis)\n",
      "/hps/nobackup/beltrao/marco/software/anaconda3/lib/python3.6/site-packages/gseapy/algorithm.py:88: RuntimeWarning: invalid value encountered in greater\n",
      "  es = np.where(np.abs(max_ES) > np.abs(min_ES), max_ES, min_ES)\n",
      "/hps/nobackup/beltrao/marco/software/anaconda3/lib/python3.6/site-packages/gseapy/algorithm.py:81: RuntimeWarning: divide by zero encountered in true_divide\n",
      "  norm_tag =  1.0/sum_correl_tag\n",
      "/hps/nobackup/beltrao/marco/software/anaconda3/lib/python3.6/site-packages/gseapy/algorithm.py:84: RuntimeWarning: invalid value encountered in multiply\n",
      "  RES = np.cumsum(tag_indicator * correl_vector * norm_tag - no_tag_indicator * norm_no_tag, axis=axis)\n",
      "/hps/nobackup/beltrao/marco/software/anaconda3/lib/python3.6/site-packages/gseapy/algorithm.py:88: RuntimeWarning: invalid value encountered in greater\n",
      "  es = np.where(np.abs(max_ES) > np.abs(min_ES), max_ES, min_ES)\n",
      "/hps/nobackup/beltrao/marco/software/anaconda3/lib/python3.6/site-packages/gseapy/algorithm.py:81: RuntimeWarning: divide by zero encountered in true_divide\n",
      "  norm_tag =  1.0/sum_correl_tag\n",
      "/hps/nobackup/beltrao/marco/software/anaconda3/lib/python3.6/site-packages/gseapy/algorithm.py:84: RuntimeWarning: invalid value encountered in multiply\n",
      "  RES = np.cumsum(tag_indicator * correl_vector * norm_tag - no_tag_indicator * norm_no_tag, axis=axis)\n",
      "/hps/nobackup/beltrao/marco/software/anaconda3/lib/python3.6/site-packages/gseapy/algorithm.py:88: RuntimeWarning: invalid value encountered in greater\n",
      "  es = np.where(np.abs(max_ES) > np.abs(min_ES), max_ES, min_ES)\n",
      "/hps/nobackup/beltrao/marco/software/anaconda3/lib/python3.6/site-packages/gseapy/algorithm.py:81: RuntimeWarning: divide by zero encountered in true_divide\n",
      "  norm_tag =  1.0/sum_correl_tag\n",
      "/hps/nobackup/beltrao/marco/software/anaconda3/lib/python3.6/site-packages/gseapy/algorithm.py:84: RuntimeWarning: invalid value encountered in multiply\n",
      "  RES = np.cumsum(tag_indicator * correl_vector * norm_tag - no_tag_indicator * norm_no_tag, axis=axis)\n",
      "/hps/nobackup/beltrao/marco/software/anaconda3/lib/python3.6/site-packages/gseapy/algorithm.py:88: RuntimeWarning: invalid value encountered in greater\n",
      "  es = np.where(np.abs(max_ES) > np.abs(min_ES), max_ES, min_ES)\n",
      "/hps/nobackup/beltrao/marco/software/anaconda3/lib/python3.6/site-packages/gseapy/algorithm.py:81: RuntimeWarning: divide by zero encountered in true_divide\n",
      "  norm_tag =  1.0/sum_correl_tag\n",
      "/hps/nobackup/beltrao/marco/software/anaconda3/lib/python3.6/site-packages/gseapy/algorithm.py:84: RuntimeWarning: invalid value encountered in multiply\n",
      "  RES = np.cumsum(tag_indicator * correl_vector * norm_tag - no_tag_indicator * norm_no_tag, axis=axis)\n",
      "/hps/nobackup/beltrao/marco/software/anaconda3/lib/python3.6/site-packages/gseapy/algorithm.py:88: RuntimeWarning: invalid value encountered in greater\n",
      "  es = np.where(np.abs(max_ES) > np.abs(min_ES), max_ES, min_ES)\n",
      "/hps/nobackup/beltrao/marco/software/anaconda3/lib/python3.6/site-packages/gseapy/algorithm.py:81: RuntimeWarning: divide by zero encountered in true_divide\n",
      "  norm_tag =  1.0/sum_correl_tag\n",
      "/hps/nobackup/beltrao/marco/software/anaconda3/lib/python3.6/site-packages/gseapy/algorithm.py:84: RuntimeWarning: invalid value encountered in multiply\n",
      "  RES = np.cumsum(tag_indicator * correl_vector * norm_tag - no_tag_indicator * norm_no_tag, axis=axis)\n",
      "/hps/nobackup/beltrao/marco/software/anaconda3/lib/python3.6/site-packages/gseapy/algorithm.py:88: RuntimeWarning: invalid value encountered in greater\n",
      "  es = np.where(np.abs(max_ES) > np.abs(min_ES), max_ES, min_ES)\n",
      "/hps/nobackup/beltrao/marco/software/anaconda3/lib/python3.6/site-packages/gseapy/algorithm.py:81: RuntimeWarning: divide by zero encountered in true_divide\n",
      "  norm_tag =  1.0/sum_correl_tag\n",
      "/hps/nobackup/beltrao/marco/software/anaconda3/lib/python3.6/site-packages/gseapy/algorithm.py:84: RuntimeWarning: invalid value encountered in multiply\n",
      "  RES = np.cumsum(tag_indicator * correl_vector * norm_tag - no_tag_indicator * norm_no_tag, axis=axis)\n",
      "/hps/nobackup/beltrao/marco/software/anaconda3/lib/python3.6/site-packages/gseapy/algorithm.py:88: RuntimeWarning: invalid value encountered in greater\n",
      "  es = np.where(np.abs(max_ES) > np.abs(min_ES), max_ES, min_ES)\n",
      "/hps/nobackup/beltrao/marco/software/anaconda3/lib/python3.6/site-packages/gseapy/algorithm.py:81: RuntimeWarning: divide by zero encountered in true_divide\n",
      "  norm_tag =  1.0/sum_correl_tag\n",
      "/hps/nobackup/beltrao/marco/software/anaconda3/lib/python3.6/site-packages/gseapy/algorithm.py:84: RuntimeWarning: invalid value encountered in multiply\n",
      "  RES = np.cumsum(tag_indicator * correl_vector * norm_tag - no_tag_indicator * norm_no_tag, axis=axis)\n",
      "/hps/nobackup/beltrao/marco/software/anaconda3/lib/python3.6/site-packages/gseapy/algorithm.py:88: RuntimeWarning: invalid value encountered in greater\n",
      "  es = np.where(np.abs(max_ES) > np.abs(min_ES), max_ES, min_ES)\n",
      "/hps/nobackup/beltrao/marco/software/anaconda3/lib/python3.6/site-packages/gseapy/algorithm.py:81: RuntimeWarning: divide by zero encountered in true_divide\n",
      "  norm_tag =  1.0/sum_correl_tag\n",
      "/hps/nobackup/beltrao/marco/software/anaconda3/lib/python3.6/site-packages/gseapy/algorithm.py:84: RuntimeWarning: invalid value encountered in multiply\n",
      "  RES = np.cumsum(tag_indicator * correl_vector * norm_tag - no_tag_indicator * norm_no_tag, axis=axis)\n",
      "/hps/nobackup/beltrao/marco/software/anaconda3/lib/python3.6/site-packages/gseapy/algorithm.py:88: RuntimeWarning: invalid value encountered in greater\n",
      "  es = np.where(np.abs(max_ES) > np.abs(min_ES), max_ES, min_ES)\n",
      "/hps/nobackup/beltrao/marco/software/anaconda3/lib/python3.6/site-packages/gseapy/algorithm.py:81: RuntimeWarning: divide by zero encountered in true_divide\n",
      "  norm_tag =  1.0/sum_correl_tag\n",
      "/hps/nobackup/beltrao/marco/software/anaconda3/lib/python3.6/site-packages/gseapy/algorithm.py:84: RuntimeWarning: invalid value encountered in multiply\n",
      "  RES = np.cumsum(tag_indicator * correl_vector * norm_tag - no_tag_indicator * norm_no_tag, axis=axis)\n",
      "/hps/nobackup/beltrao/marco/software/anaconda3/lib/python3.6/site-packages/gseapy/algorithm.py:88: RuntimeWarning: invalid value encountered in greater\n",
      "  es = np.where(np.abs(max_ES) > np.abs(min_ES), max_ES, min_ES)\n",
      "/hps/nobackup/beltrao/marco/software/anaconda3/lib/python3.6/site-packages/gseapy/algorithm.py:81: RuntimeWarning: divide by zero encountered in true_divide\n",
      "  norm_tag =  1.0/sum_correl_tag\n",
      "/hps/nobackup/beltrao/marco/software/anaconda3/lib/python3.6/site-packages/gseapy/algorithm.py:84: RuntimeWarning: invalid value encountered in multiply\n",
      "  RES = np.cumsum(tag_indicator * correl_vector * norm_tag - no_tag_indicator * norm_no_tag, axis=axis)\n",
      "/hps/nobackup/beltrao/marco/software/anaconda3/lib/python3.6/site-packages/gseapy/algorithm.py:88: RuntimeWarning: invalid value encountered in greater\n",
      "  es = np.where(np.abs(max_ES) > np.abs(min_ES), max_ES, min_ES)\n",
      "/hps/nobackup/beltrao/marco/software/anaconda3/lib/python3.6/site-packages/gseapy/algorithm.py:81: RuntimeWarning: divide by zero encountered in true_divide\n",
      "  norm_tag =  1.0/sum_correl_tag\n",
      "/hps/nobackup/beltrao/marco/software/anaconda3/lib/python3.6/site-packages/gseapy/algorithm.py:84: RuntimeWarning: invalid value encountered in multiply\n",
      "  RES = np.cumsum(tag_indicator * correl_vector * norm_tag - no_tag_indicator * norm_no_tag, axis=axis)\n",
      "/hps/nobackup/beltrao/marco/software/anaconda3/lib/python3.6/site-packages/gseapy/algorithm.py:88: RuntimeWarning: invalid value encountered in greater\n",
      "  es = np.where(np.abs(max_ES) > np.abs(min_ES), max_ES, min_ES)\n",
      "/hps/nobackup/beltrao/marco/software/anaconda3/lib/python3.6/site-packages/gseapy/algorithm.py:81: RuntimeWarning: divide by zero encountered in true_divide\n",
      "  norm_tag =  1.0/sum_correl_tag\n",
      "/hps/nobackup/beltrao/marco/software/anaconda3/lib/python3.6/site-packages/gseapy/algorithm.py:84: RuntimeWarning: invalid value encountered in multiply\n",
      "  RES = np.cumsum(tag_indicator * correl_vector * norm_tag - no_tag_indicator * norm_no_tag, axis=axis)\n",
      "/hps/nobackup/beltrao/marco/software/anaconda3/lib/python3.6/site-packages/gseapy/algorithm.py:88: RuntimeWarning: invalid value encountered in greater\n",
      "  es = np.where(np.abs(max_ES) > np.abs(min_ES), max_ES, min_ES)\n",
      "/hps/nobackup/beltrao/marco/software/anaconda3/lib/python3.6/site-packages/gseapy/algorithm.py:81: RuntimeWarning: divide by zero encountered in true_divide\n",
      "  norm_tag =  1.0/sum_correl_tag\n",
      "/hps/nobackup/beltrao/marco/software/anaconda3/lib/python3.6/site-packages/gseapy/algorithm.py:84: RuntimeWarning: invalid value encountered in multiply\n",
      "  RES = np.cumsum(tag_indicator * correl_vector * norm_tag - no_tag_indicator * norm_no_tag, axis=axis)\n",
      "/hps/nobackup/beltrao/marco/software/anaconda3/lib/python3.6/site-packages/gseapy/algorithm.py:88: RuntimeWarning: invalid value encountered in greater\n",
      "  es = np.where(np.abs(max_ES) > np.abs(min_ES), max_ES, min_ES)\n",
      "/hps/nobackup/beltrao/marco/software/anaconda3/lib/python3.6/site-packages/gseapy/algorithm.py:81: RuntimeWarning: divide by zero encountered in double_scalars\n",
      "  norm_tag =  1.0/sum_correl_tag\n",
      "/hps/nobackup/beltrao/marco/software/anaconda3/lib/python3.6/site-packages/gseapy/algorithm.py:84: RuntimeWarning: invalid value encountered in multiply\n",
      "  RES = np.cumsum(tag_indicator * correl_vector * norm_tag - no_tag_indicator * norm_no_tag, axis=axis)\n",
      "/hps/nobackup/beltrao/marco/software/anaconda3/lib/python3.6/site-packages/gseapy/algorithm.py:81: RuntimeWarning: divide by zero encountered in true_divide\n",
      "  norm_tag =  1.0/sum_correl_tag\n",
      "/hps/nobackup/beltrao/marco/software/anaconda3/lib/python3.6/site-packages/gseapy/algorithm.py:88: RuntimeWarning: invalid value encountered in greater\n",
      "  es = np.where(np.abs(max_ES) > np.abs(min_ES), max_ES, min_ES)\n",
      "/hps/nobackup/beltrao/marco/software/anaconda3/lib/python3.6/site-packages/gseapy/algorithm.py:81: RuntimeWarning: divide by zero encountered in true_divide\n",
      "  norm_tag =  1.0/sum_correl_tag\n",
      "/hps/nobackup/beltrao/marco/software/anaconda3/lib/python3.6/site-packages/gseapy/algorithm.py:88: RuntimeWarning: invalid value encountered in greater\n",
      "  es = np.where(np.abs(max_ES) > np.abs(min_ES), max_ES, min_ES)\n",
      "/hps/nobackup/beltrao/marco/software/anaconda3/lib/python3.6/site-packages/gseapy/algorithm.py:81: RuntimeWarning: divide by zero encountered in true_divide\n",
      "  norm_tag =  1.0/sum_correl_tag\n",
      "/hps/nobackup/beltrao/marco/software/anaconda3/lib/python3.6/site-packages/gseapy/algorithm.py:88: RuntimeWarning: invalid value encountered in greater\n",
      "  es = np.where(np.abs(max_ES) > np.abs(min_ES), max_ES, min_ES)\n",
      "/hps/nobackup/beltrao/marco/software/anaconda3/lib/python3.6/site-packages/gseapy/algorithm.py:81: RuntimeWarning: divide by zero encountered in true_divide\n",
      "  norm_tag =  1.0/sum_correl_tag\n",
      "/hps/nobackup/beltrao/marco/software/anaconda3/lib/python3.6/site-packages/gseapy/algorithm.py:88: RuntimeWarning: invalid value encountered in greater\n",
      "  es = np.where(np.abs(max_ES) > np.abs(min_ES), max_ES, min_ES)\n",
      "/hps/nobackup/beltrao/marco/software/anaconda3/lib/python3.6/site-packages/gseapy/algorithm.py:81: RuntimeWarning: divide by zero encountered in true_divide\n",
      "  norm_tag =  1.0/sum_correl_tag\n",
      "/hps/nobackup/beltrao/marco/software/anaconda3/lib/python3.6/site-packages/gseapy/algorithm.py:88: RuntimeWarning: invalid value encountered in greater\n",
      "  es = np.where(np.abs(max_ES) > np.abs(min_ES), max_ES, min_ES)\n",
      "/hps/nobackup/beltrao/marco/software/anaconda3/lib/python3.6/site-packages/gseapy/algorithm.py:81: RuntimeWarning: divide by zero encountered in true_divide\n",
      "  norm_tag =  1.0/sum_correl_tag\n",
      "/hps/nobackup/beltrao/marco/software/anaconda3/lib/python3.6/site-packages/gseapy/algorithm.py:88: RuntimeWarning: invalid value encountered in greater\n",
      "  es = np.where(np.abs(max_ES) > np.abs(min_ES), max_ES, min_ES)\n",
      "/hps/nobackup/beltrao/marco/software/anaconda3/lib/python3.6/site-packages/gseapy/algorithm.py:81: RuntimeWarning: divide by zero encountered in true_divide\n",
      "  norm_tag =  1.0/sum_correl_tag\n",
      "/hps/nobackup/beltrao/marco/software/anaconda3/lib/python3.6/site-packages/gseapy/algorithm.py:88: RuntimeWarning: invalid value encountered in greater\n",
      "  es = np.where(np.abs(max_ES) > np.abs(min_ES), max_ES, min_ES)\n",
      "/hps/nobackup/beltrao/marco/software/anaconda3/lib/python3.6/site-packages/gseapy/algorithm.py:81: RuntimeWarning: divide by zero encountered in true_divide\n",
      "  norm_tag =  1.0/sum_correl_tag\n",
      "/hps/nobackup/beltrao/marco/software/anaconda3/lib/python3.6/site-packages/gseapy/algorithm.py:88: RuntimeWarning: invalid value encountered in greater\n",
      "  es = np.where(np.abs(max_ES) > np.abs(min_ES), max_ES, min_ES)\n",
      "/hps/nobackup/beltrao/marco/software/anaconda3/lib/python3.6/site-packages/gseapy/algorithm.py:81: RuntimeWarning: divide by zero encountered in true_divide\n",
      "  norm_tag =  1.0/sum_correl_tag\n",
      "/hps/nobackup/beltrao/marco/software/anaconda3/lib/python3.6/site-packages/gseapy/algorithm.py:88: RuntimeWarning: invalid value encountered in greater\n",
      "  es = np.where(np.abs(max_ES) > np.abs(min_ES), max_ES, min_ES)\n"
     ]
    }
   ],
   "source": [
    "g = pd.concat([x.res2d for x in gsea(m, a, v)])"
   ]
  },
  {
   "cell_type": "code",
   "execution_count": 30,
   "metadata": {
    "collapsed": true
   },
   "outputs": [],
   "source": [
    "p = pd.read_table('../sickness/123456/auc_weighted_score.2.txt',\n",
    "                  header=None)\n",
    "p.columns = ['condition',\n",
    "             'sick', 'strains',\n",
    "             'stat', 'threshold',\n",
    "             'x', 'y', 'kind']\n",
    "p = p[p.kind == 'prec'].groupby('condition').max()['stat'].dropna().to_dict()"
   ]
  },
  {
   "cell_type": "code",
   "execution_count": 31,
   "metadata": {
    "collapsed": true
   },
   "outputs": [],
   "source": [
    "g['pr-auc'] = [p.get(x) for x in g.index]"
   ]
  },
  {
   "cell_type": "code",
   "execution_count": 32,
   "metadata": {},
   "outputs": [
    {
     "data": {
      "image/png": "[encoded data removed]",
      "text/plain": [
       "<matplotlib.figure.Figure at 0x2b20f236f128>"
      ]
     },
     "metadata": {},
     "output_type": "display_data"
    }
   ],
   "source": [
    "plt.figure(figsize=(2.5, 2.5))\n",
    "\n",
    "l = stats.linregress(g['pr-auc'],\n",
    "                     -np.log10(g['pval'] + 0.0001))\n",
    "plt.plot(g['pr-auc'],\n",
    "         -np.log10(g.pval + 0.0001),\n",
    "         'ko',\n",
    "         alpha=0.5)\n",
    "\n",
    "fn = l.intercept + l.slope * np.linspace(0, 0.5)\n",
    "plt.plot(np.linspace(0, 0.5),\n",
    "         fn,\n",
    "         'k--')\n",
    "\n",
    "plt.axhline(-np.log10(0.05),\n",
    "            color='r',\n",
    "            linestyle='dashed')\n",
    "plt.ylim(0, 4.2)\n",
    "\n",
    "plt.text(0.22,\n",
    "         0.15,\n",
    "         'Pearson\\'s r: %.3f' % l.rvalue)\n",
    "\n",
    "plt.xlabel('PR-AUC')\n",
    "plt.ylabel('-log$_{10}$(GSEA p-value)')\n",
    "\n",
    "# plt.yscale('log')\n",
    "sns.despine()\n",
    "plt.savefig('sfig4c.svg', dpi=150)"
   ]
  },
  {
   "cell_type": "code",
   "execution_count": 33,
   "metadata": {
    "collapsed": true
   },
   "outputs": [],
   "source": [
    "p = pd.read_table('../sickness/123456/auc_weighted_score.2.txt',\n",
    "                  header=None)\n",
    "p.columns = ['condition',\n",
    "             'sick', 'strains',\n",
    "             'stat', 'threshold',\n",
    "             'x', 'y', 'kind']\n",
    "p = p[p.kind == 'prec'].groupby('condition').max()['stat'].dropna().to_dict()"
   ]
  },
  {
   "cell_type": "code",
   "execution_count": 34,
   "metadata": {
    "collapsed": true
   },
   "outputs": [],
   "source": [
    "q = pd.read_table('../sickness/123456/auc_score.2.txt',\n",
    "                  header=None)\n",
    "q.columns = ['condition',\n",
    "             'sick', 'strains',\n",
    "             'stat', 'threshold',\n",
    "             'x', 'y', 'kind']\n",
    "q = q[q.kind == 'prec'].groupby('condition').max()['stat'].dropna().to_dict()"
   ]
  },
  {
   "cell_type": "code",
   "execution_count": 35,
   "metadata": {},
   "outputs": [
    {
     "data": {
      "image/png": "[encoded data removed]",
      "text/plain": [
       "<matplotlib.figure.Figure at 0x2b20f2428c88>"
      ]
     },
     "metadata": {},
     "output_type": "display_data"
    }
   ],
   "source": [
    "plt.figure(figsize=(2.5, 2.5))\n",
    "\n",
    "idx = set(p).intersection(q)\n",
    "\n",
    "plt.plot([q[x] for x in idx],\n",
    "         [p[x] for x in idx],\n",
    "         'ko',\n",
    "         alpha=0.5)\n",
    "plt.plot([0, 0.6],\n",
    "         [0, 0.6],\n",
    "         '--',\n",
    "         color='grey')\n",
    "\n",
    "plt.xlabel('PR-AUC\\n(unweighted)')\n",
    "plt.ylabel('PR-AUC\\n(weighted)')\n",
    "\n",
    "sns.despine()\n",
    "plt.savefig('sfig4d.svg', dpi=150)"
   ]
  },
  {
   "cell_type": "code",
   "execution_count": 36,
   "metadata": {},
   "outputs": [
    {
     "data": {
      "image/png": "[encoded data removed]",
      "text/plain": [
       "<IPython.core.display.Image object>"
      ]
     },
     "execution_count": 36,
     "metadata": {},
     "output_type": "execute_result"
    }
   ],
   "source": [
    "import svgutils.transform as sg\n",
    "import sys \n",
    "\n",
    "#create new SVG figure\n",
    "fig = sg.SVGFigure(\"7in\", \"8.3in\")\n",
    "\n",
    "# load matpotlib-generated figures\n",
    "fig1 = sg.fromfile('../plots/conditions_all_auc.svg')\n",
    "fig2 = sg.fromfile('sfig4a.svg')\n",
    "fig3 = sg.fromfile('sfig4b.svg')\n",
    "fig4 = sg.fromfile('sfig4c.svg')\n",
    "fig5 = sg.fromfile('sfig4d.svg')\n",
    "\n",
    "# get the plot objects\n",
    "plot1 = fig1.getroot()\n",
    "plot1.moveto(60, 0, scale=1)\n",
    "plot2 = fig2.getroot()\n",
    "plot2.moveto(0, 270, scale=1)\n",
    "# plot3 = fig3.getroot()\n",
    "# plot3.moveto(45, 530, scale=1)\n",
    "plot4 = fig4.getroot()\n",
    "plot4.moveto(55, 530, scale=1)\n",
    "plot5 = fig5.getroot()\n",
    "plot5.moveto(310, 530, scale=1)\n",
    "\n",
    "# add text labels\n",
    "txt1 = sg.TextElement(5,  10, \"A)\", size=12, weight=\"bold\")\n",
    "txt2 = sg.TextElement(5,  275, \"B)\", size=12, weight=\"bold\")\n",
    "txt3 = sg.TextElement(250,  275, \"C)\", size=12, weight=\"bold\")\n",
    "# txt4 = sg.TextElement(25,  530, \"D)\", size=12, weight=\"bold\")\n",
    "txt5 = sg.TextElement(5,  530, \"D)\", size=12, weight=\"bold\")\n",
    "txt6 = sg.TextElement(250,  530, \"E)\", size=12, weight=\"bold\")\n",
    "\n",
    "# append plots and labels to figure\n",
    "fig.append([plot1, plot2, plot4, plot5])\n",
    "fig.append([txt1, txt2, txt3, txt5, txt6])\n",
    "\n",
    "# save generated SVG files\n",
    "fig.save(\"../figures/supplementary/sfig4.svg\")\n",
    "\n",
    "!convert ../figures/supplementary/sfig4.svg sfig4.png\n",
    "\n",
    "from IPython.display import Image\n",
    "Image(filename='sfig4.png')"
   ]
  }
 ],
 "metadata": {
  "kernelspec": {
   "display_name": "Python 3",
   "language": "python",
   "name": "python3"
  },
  "language_info": {
   "codemirror_mode": {
    "name": "ipython",
    "version": 3
   },
   "file_extension": ".py",
   "mimetype": "text/x-python",
   "name": "python",
   "nbconvert_exporter": "python",
   "pygments_lexer": "ipython3",
   "version": "3.5.3"
  }
 },
 "nbformat": 4,
 "nbformat_minor": 1
}
